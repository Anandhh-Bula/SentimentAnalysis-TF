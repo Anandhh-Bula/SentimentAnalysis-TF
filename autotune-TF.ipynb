{
 "cells": [
  {
   "cell_type": "markdown",
   "id": "65bb22f3-5a60-40f2-95ad-ed414ccfcb09",
   "metadata": {},
   "source": [
    "## Importing required libraries for the project\n",
    "### 'matplotlib' for ploting the graph of accuracy and loss\n",
    "### 'os' for OS functions\n",
    "### 're' for Regular expressions\n",
    "### 'shutils' for file operations\n",
    "### 'string' for operations on string"
   ]
  },
  {
   "cell_type": "code",
   "execution_count": 7,
   "id": "fc00f600-cfa6-41ee-bfc3-a17d83b080c1",
   "metadata": {
    "execution": {
     "iopub.execute_input": "2022-07-01T03:39:21.738804Z",
     "iopub.status.busy": "2022-07-01T03:39:21.738506Z",
     "iopub.status.idle": "2022-07-01T03:39:21.743743Z",
     "shell.execute_reply": "2022-07-01T03:39:21.742813Z",
     "shell.execute_reply.started": "2022-07-01T03:39:21.738778Z"
    }
   },
   "outputs": [],
   "source": [
    "import matplotlib.pyplot as plt\n",
    "import os\n",
    "import re\n",
    "import shutil\n",
    "import string\n",
    "import tensorflow as tf\n",
    "\n",
    "from tensorflow.keras import layers\n",
    "from tensorflow.keras import losses"
   ]
  },
  {
   "cell_type": "code",
   "execution_count": 8,
   "id": "45f8d9ee-c9fb-4b7c-9c10-aa75acc721e6",
   "metadata": {
    "execution": {
     "iopub.execute_input": "2022-07-01T03:39:25.180645Z",
     "iopub.status.busy": "2022-07-01T03:39:25.180071Z",
     "iopub.status.idle": "2022-07-01T03:39:25.185739Z",
     "shell.execute_reply": "2022-07-01T03:39:25.184735Z",
     "shell.execute_reply.started": "2022-07-01T03:39:25.180603Z"
    }
   },
   "outputs": [
    {
     "name": "stdout",
     "output_type": "stream",
     "text": [
      "2.7.0\n"
     ]
    }
   ],
   "source": [
    "print(tf.__version__)"
   ]
  },
  {
   "cell_type": "markdown",
   "id": "b9e3d099-470e-4166-aa60-88a18a11a01a",
   "metadata": {},
   "source": [
    "### Downloading IMDB dataset"
   ]
  },
  {
   "cell_type": "code",
   "execution_count": 9,
   "id": "d4f2af7d-f16b-454c-84c3-3c576f0482d1",
   "metadata": {
    "execution": {
     "iopub.execute_input": "2022-07-01T03:39:29.499937Z",
     "iopub.status.busy": "2022-07-01T03:39:29.498943Z",
     "iopub.status.idle": "2022-07-01T03:42:54.380484Z",
     "shell.execute_reply": "2022-07-01T03:42:54.379577Z",
     "shell.execute_reply.started": "2022-07-01T03:39:29.499895Z"
    }
   },
   "outputs": [
    {
     "name": "stdout",
     "output_type": "stream",
     "text": [
      "Downloading data from https://ai.stanford.edu/~amaas/data/sentiment/aclImdb_v1.tar.gz\n",
      "84131840/84125825 [==============================] - 18s 0us/step\n",
      "84140032/84125825 [==============================] - 18s 0us/step\n"
     ]
    }
   ],
   "source": [
    "url = \"https://ai.stanford.edu/~amaas/data/sentiment/aclImdb_v1.tar.gz\"\n",
    "\n",
    "dataset = tf.keras.utils.get_file(\"aclImdb_v1\", url,\n",
    "                                    untar=True, cache_dir='.',\n",
    "                                    cache_subdir='')\n",
    "\n",
    "dataset_dir = os.path.join(os.path.dirname(dataset), 'aclImdb')"
   ]
  },
  {
   "cell_type": "code",
   "execution_count": 10,
   "id": "4db5587f-950f-4cdf-ae28-11f335287c2b",
   "metadata": {
    "execution": {
     "iopub.execute_input": "2022-07-01T03:42:54.382515Z",
     "iopub.status.busy": "2022-07-01T03:42:54.381968Z",
     "iopub.status.idle": "2022-07-01T03:42:54.484613Z",
     "shell.execute_reply": "2022-07-01T03:42:54.483809Z",
     "shell.execute_reply.started": "2022-07-01T03:42:54.382515Z"
    }
   },
   "outputs": [
    {
     "data": {
      "text/plain": [
       "['train', 'imdb.vocab', 'imdbEr.txt', 'README', 'test']"
      ]
     },
     "execution_count": 10,
     "metadata": {},
     "output_type": "execute_result"
    }
   ],
   "source": [
    "os.listdir(dataset_dir)"
   ]
  },
  {
   "cell_type": "code",
   "execution_count": 11,
   "id": "50758399-3e60-4a34-999e-ca3e794d5451",
   "metadata": {
    "execution": {
     "iopub.execute_input": "2022-07-01T03:42:54.485928Z",
     "iopub.status.busy": "2022-07-01T03:42:54.485738Z",
     "iopub.status.idle": "2022-07-01T03:42:54.561099Z",
     "shell.execute_reply": "2022-07-01T03:42:54.560420Z",
     "shell.execute_reply.started": "2022-07-01T03:42:54.485891Z"
    }
   },
   "outputs": [
    {
     "data": {
      "text/plain": [
       "['urls_neg.txt',\n",
       " 'unsupBow.feat',\n",
       " 'unsup',\n",
       " 'pos',\n",
       " 'urls_pos.txt',\n",
       " 'labeledBow.feat',\n",
       " 'neg',\n",
       " 'urls_unsup.txt']"
      ]
     },
     "execution_count": 11,
     "metadata": {},
     "output_type": "execute_result"
    }
   ],
   "source": [
    "train_dir = os.path.join(dataset_dir, 'train')\n",
    "os.listdir(train_dir)"
   ]
  },
  {
   "cell_type": "code",
   "execution_count": 12,
   "id": "88b01da9-5f14-48bb-94c4-c5db7a440b84",
   "metadata": {
    "execution": {
     "iopub.execute_input": "2022-07-01T03:42:54.564928Z",
     "iopub.status.busy": "2022-07-01T03:42:54.564250Z",
     "iopub.status.idle": "2022-07-01T03:42:54.571630Z",
     "shell.execute_reply": "2022-07-01T03:42:54.570568Z",
     "shell.execute_reply.started": "2022-07-01T03:42:54.564883Z"
    }
   },
   "outputs": [
    {
     "name": "stdout",
     "output_type": "stream",
     "text": [
      "Rachel Griffiths writes and directs this award winning short film. A heartwarming story about coping with grief and cherishing the memory of those we've loved and lost. Although, only 15 minutes long, Griffiths manages to capture so much emotion and truth onto film in the short space of time. Bud Tingwell gives a touching performance as Will, a widower struggling to cope with his wife's death. Will is confronted by the harsh reality of loneliness and helplessness as he proceeds to take care of Ruth's pet cow, Tulip. The film displays the grief and responsibility one feels for those they have loved and lost. Good cinematography, great direction, and superbly acted. It will bring tears to all those who have lost a loved one, and survived.\n"
     ]
    }
   ],
   "source": [
    "sample_file = os.path.join(train_dir, 'pos/1181_9.txt')\n",
    "with open(sample_file) as f:\n",
    "  print(f.read())"
   ]
  },
  {
   "cell_type": "code",
   "execution_count": 13,
   "id": "51827195-a727-466c-a6ac-ee71bb270a26",
   "metadata": {
    "execution": {
     "iopub.execute_input": "2022-07-01T03:42:54.572714Z",
     "iopub.status.busy": "2022-07-01T03:42:54.572448Z",
     "iopub.status.idle": "2022-07-01T03:46:28.730681Z",
     "shell.execute_reply": "2022-07-01T03:46:28.729888Z",
     "shell.execute_reply.started": "2022-07-01T03:42:54.572714Z"
    }
   },
   "outputs": [],
   "source": [
    "remove_dir = os.path.join(train_dir, 'unsup')\n",
    "shutil.rmtree(remove_dir)"
   ]
  },
  {
   "cell_type": "markdown",
   "id": "3c158082-8cad-4391-b003-462f52507763",
   "metadata": {},
   "source": [
    "### Creating the dataset for training"
   ]
  },
  {
   "cell_type": "code",
   "execution_count": 14,
   "id": "9fcc87eb-097e-4945-8a1e-662659727343",
   "metadata": {
    "execution": {
     "iopub.execute_input": "2022-07-01T03:46:28.732284Z",
     "iopub.status.busy": "2022-07-01T03:46:28.732077Z",
     "iopub.status.idle": "2022-07-01T03:46:36.470176Z",
     "shell.execute_reply": "2022-07-01T03:46:36.469605Z",
     "shell.execute_reply.started": "2022-07-01T03:46:28.732245Z"
    }
   },
   "outputs": [
    {
     "name": "stdout",
     "output_type": "stream",
     "text": [
      "Found 25000 files belonging to 2 classes.\n",
      "Using 20000 files for training.\n"
     ]
    },
    {
     "name": "stderr",
     "output_type": "stream",
     "text": [
      "2022-07-01 03:46:29.737964: I tensorflow/stream_executor/cuda/cuda_gpu_executor.cc:1052] successful NUMA node read from SysFS had negative value (-1), but there must be at least one NUMA node, so returning NUMA node zero\n",
      "2022-07-01 03:46:29.794364: I tensorflow/stream_executor/cuda/cuda_gpu_executor.cc:1052] successful NUMA node read from SysFS had negative value (-1), but there must be at least one NUMA node, so returning NUMA node zero\n",
      "2022-07-01 03:46:29.794868: I tensorflow/stream_executor/cuda/cuda_gpu_executor.cc:1052] successful NUMA node read from SysFS had negative value (-1), but there must be at least one NUMA node, so returning NUMA node zero\n",
      "2022-07-01 03:46:29.798595: I tensorflow/stream_executor/cuda/cuda_gpu_executor.cc:1052] successful NUMA node read from SysFS had negative value (-1), but there must be at least one NUMA node, so returning NUMA node zero\n",
      "2022-07-01 03:46:29.799021: I tensorflow/stream_executor/cuda/cuda_gpu_executor.cc:1052] successful NUMA node read from SysFS had negative value (-1), but there must be at least one NUMA node, so returning NUMA node zero\n",
      "2022-07-01 03:46:29.799436: I tensorflow/stream_executor/cuda/cuda_gpu_executor.cc:1052] successful NUMA node read from SysFS had negative value (-1), but there must be at least one NUMA node, so returning NUMA node zero\n",
      "2022-07-01 03:46:36.013291: I tensorflow/stream_executor/cuda/cuda_gpu_executor.cc:1052] successful NUMA node read from SysFS had negative value (-1), but there must be at least one NUMA node, so returning NUMA node zero\n",
      "2022-07-01 03:46:36.013643: I tensorflow/stream_executor/cuda/cuda_gpu_executor.cc:1052] successful NUMA node read from SysFS had negative value (-1), but there must be at least one NUMA node, so returning NUMA node zero\n",
      "2022-07-01 03:46:36.013893: I tensorflow/stream_executor/cuda/cuda_gpu_executor.cc:1052] successful NUMA node read from SysFS had negative value (-1), but there must be at least one NUMA node, so returning NUMA node zero\n",
      "2022-07-01 03:46:36.015123: I tensorflow/core/common_runtime/gpu/gpu_device.cc:1525] Created device /job:localhost/replica:0/task:0/device:GPU:0 with 7275 MB memory:  -> device: 0, name: Quadro M4000, pci bus id: 0000:00:05.0, compute capability: 5.2\n"
     ]
    }
   ],
   "source": [
    "batch_size = 32\n",
    "seed = 42\n",
    "\n",
    "raw_train_ds = tf.keras.utils.text_dataset_from_directory(\n",
    "    'aclImdb/train', \n",
    "    batch_size=batch_size, \n",
    "    validation_split=0.2, \n",
    "    subset='training', \n",
    "    seed=seed)"
   ]
  },
  {
   "cell_type": "code",
   "execution_count": 15,
   "id": "350b2d67-1ebe-4dcf-b29f-1fb6e3d0341c",
   "metadata": {
    "execution": {
     "iopub.execute_input": "2022-07-01T03:46:36.471803Z",
     "iopub.status.busy": "2022-07-01T03:46:36.471134Z",
     "iopub.status.idle": "2022-07-01T03:46:36.971676Z",
     "shell.execute_reply": "2022-07-01T03:46:36.970721Z",
     "shell.execute_reply.started": "2022-07-01T03:46:36.471776Z"
    }
   },
   "outputs": [
    {
     "name": "stdout",
     "output_type": "stream",
     "text": [
      "Review b'\"Pandemonium\" is a horror movie spoof that comes off more stupid than funny. Believe me when I tell you, I love comedies. Especially comedy spoofs. \"Airplane\", \"The Naked Gun\" trilogy, \"Blazing Saddles\", \"High Anxiety\", and \"Spaceballs\" are some of my favorite comedies that spoof a particular genre. \"Pandemonium\" is not up there with those films. Most of the scenes in this movie had me sitting there in stunned silence because the movie wasn\\'t all that funny. There are a few laughs in the film, but when you watch a comedy, you expect to laugh a lot more than a few times and that\\'s all this film has going for it. Geez, \"Scream\" had more laughs than this film and that was more of a horror film. How bizarre is that?<br /><br />*1/2 (out of four)'\n",
      "Label 0\n",
      "Review b\"David Mamet is a very interesting and a very un-equal director. His first movie 'House of Games' was the one I liked best, and it set a series of films with characters whose perspective of life changes as they get into complicated situations, and so does the perspective of the viewer.<br /><br />So is 'Homicide' which from the title tries to set the mind of the viewer to the usual crime drama. The principal characters are two cops, one Jewish and one Irish who deal with a racially charged area. The murder of an old Jewish shop owner who proves to be an ancient veteran of the Israeli Independence war triggers the Jewish identity in the mind and heart of the Jewish detective.<br /><br />This is were the flaws of the film are the more obvious. The process of awakening is theatrical and hard to believe, the group of Jewish militants is operatic, and the way the detective eventually walks to the final violent confrontation is pathetic. The end of the film itself is Mamet-like smart, but disappoints from a human emotional perspective.<br /><br />Joe Mantegna and William Macy give strong performances, but the flaws of the story are too evident to be easily compensated.\"\n",
      "Label 0\n",
      "Review b'Great documentary about the lives of NY firefighters during the worst terrorist attack of all time.. That reason alone is why this should be a must see collectors item.. What shocked me was not only the attacks, but the\"High Fat Diet\" and physical appearance of some of these firefighters. I think a lot of Doctors would agree with me that,in the physical shape they were in, some of these firefighters would NOT of made it to the 79th floor carrying over 60 lbs of gear. Having said that i now have a greater respect for firefighters and i realize becoming a firefighter is a life altering job. The French have a history of making great documentary\\'s and that is what this is, a Great Documentary.....'\n",
      "Label 1\n"
     ]
    }
   ],
   "source": [
    "for text_batch, label_batch in raw_train_ds.take(1):\n",
    "  for i in range(3):\n",
    "    print(\"Review\", text_batch.numpy()[i])\n",
    "    print(\"Label\", label_batch.numpy()[i])"
   ]
  },
  {
   "cell_type": "code",
   "execution_count": 16,
   "id": "731e9cc7-32b0-4933-b301-c790b7067ef1",
   "metadata": {
    "execution": {
     "iopub.execute_input": "2022-07-01T03:46:36.972858Z",
     "iopub.status.busy": "2022-07-01T03:46:36.972643Z",
     "iopub.status.idle": "2022-07-01T03:46:36.979184Z",
     "shell.execute_reply": "2022-07-01T03:46:36.977932Z",
     "shell.execute_reply.started": "2022-07-01T03:46:36.972831Z"
    }
   },
   "outputs": [
    {
     "name": "stdout",
     "output_type": "stream",
     "text": [
      "Label 0 corresponds to neg\n",
      "Label 1 corresponds to pos\n"
     ]
    }
   ],
   "source": [
    "print(\"Label 0 corresponds to\", raw_train_ds.class_names[0])\n",
    "print(\"Label 1 corresponds to\", raw_train_ds.class_names[1])"
   ]
  },
  {
   "cell_type": "code",
   "execution_count": 17,
   "id": "72473c83-92a9-46e4-8ec2-f75b49329142",
   "metadata": {
    "execution": {
     "iopub.execute_input": "2022-07-01T03:46:36.980278Z",
     "iopub.status.busy": "2022-07-01T03:46:36.980198Z",
     "iopub.status.idle": "2022-07-01T03:46:37.804251Z",
     "shell.execute_reply": "2022-07-01T03:46:37.803455Z",
     "shell.execute_reply.started": "2022-07-01T03:46:36.980238Z"
    }
   },
   "outputs": [
    {
     "name": "stdout",
     "output_type": "stream",
     "text": [
      "Found 25000 files belonging to 2 classes.\n",
      "Using 5000 files for validation.\n"
     ]
    }
   ],
   "source": [
    "raw_val_ds = tf.keras.utils.text_dataset_from_directory(\n",
    "    'aclImdb/train', \n",
    "    batch_size=batch_size, \n",
    "    validation_split=0.2, \n",
    "    subset='validation', \n",
    "    seed=seed)"
   ]
  },
  {
   "cell_type": "code",
   "execution_count": 18,
   "id": "74726f07-3084-463a-98e5-345ea465b680",
   "metadata": {
    "execution": {
     "iopub.execute_input": "2022-07-01T03:46:37.807127Z",
     "iopub.status.busy": "2022-07-01T03:46:37.806894Z",
     "iopub.status.idle": "2022-07-01T03:46:38.783403Z",
     "shell.execute_reply": "2022-07-01T03:46:38.782614Z",
     "shell.execute_reply.started": "2022-07-01T03:46:37.807085Z"
    }
   },
   "outputs": [
    {
     "name": "stdout",
     "output_type": "stream",
     "text": [
      "Found 25000 files belonging to 2 classes.\n"
     ]
    }
   ],
   "source": [
    "raw_test_ds = tf.keras.utils.text_dataset_from_directory(\n",
    "    'aclImdb/test', \n",
    "    batch_size=batch_size)"
   ]
  },
  {
   "cell_type": "code",
   "execution_count": 19,
   "id": "0d46eba3-877b-4569-bb6c-c0f1d0fa349e",
   "metadata": {
    "execution": {
     "iopub.execute_input": "2022-07-01T03:46:38.784591Z",
     "iopub.status.busy": "2022-07-01T03:46:38.784413Z",
     "iopub.status.idle": "2022-07-01T03:46:38.788950Z",
     "shell.execute_reply": "2022-07-01T03:46:38.788115Z",
     "shell.execute_reply.started": "2022-07-01T03:46:38.784565Z"
    }
   },
   "outputs": [],
   "source": [
    "def custom_standardization(input_data):\n",
    "  lowercase = tf.strings.lower(input_data)\n",
    "  stripped_html = tf.strings.regex_replace(lowercase, '<br />', ' ')\n",
    "  return tf.strings.regex_replace(stripped_html,\n",
    "                                  '[%s]' % re.escape(string.punctuation),\n",
    "                                  '')"
   ]
  },
  {
   "cell_type": "code",
   "execution_count": 20,
   "id": "d227e541-fd87-4bb9-9311-46f8c5be2493",
   "metadata": {
    "execution": {
     "iopub.execute_input": "2022-07-01T03:46:38.790221Z",
     "iopub.status.busy": "2022-07-01T03:46:38.790028Z",
     "iopub.status.idle": "2022-07-01T03:46:38.829176Z",
     "shell.execute_reply": "2022-07-01T03:46:38.828127Z",
     "shell.execute_reply.started": "2022-07-01T03:46:38.790193Z"
    }
   },
   "outputs": [],
   "source": [
    "max_features = 10000\n",
    "sequence_length = 250\n",
    "\n",
    "vectorize_layer = layers.TextVectorization(\n",
    "    standardize=custom_standardization,\n",
    "    max_tokens=max_features,\n",
    "    output_mode='int',\n",
    "    output_sequence_length=sequence_length)"
   ]
  },
  {
   "cell_type": "code",
   "execution_count": 21,
   "id": "2a0909a8-d01a-4a38-9eb3-9ce8efcfa9ba",
   "metadata": {
    "execution": {
     "iopub.execute_input": "2022-07-01T03:46:38.830344Z",
     "iopub.status.busy": "2022-07-01T03:46:38.830179Z",
     "iopub.status.idle": "2022-07-01T03:46:43.637326Z",
     "shell.execute_reply": "2022-07-01T03:46:43.636489Z",
     "shell.execute_reply.started": "2022-07-01T03:46:38.830322Z"
    }
   },
   "outputs": [],
   "source": [
    "# Make a text-only dataset (without labels), then call adapt\n",
    "train_text = raw_train_ds.map(lambda x, y: x)\n",
    "vectorize_layer.adapt(train_text)"
   ]
  },
  {
   "cell_type": "markdown",
   "id": "ece40d7c-23e9-47c3-9526-08c3f9054b24",
   "metadata": {},
   "source": []
  },
  {
   "cell_type": "code",
   "execution_count": 22,
   "id": "b27d2228-f33e-4354-963f-dd0c1f320e65",
   "metadata": {
    "execution": {
     "iopub.execute_input": "2022-07-01T03:46:43.638598Z",
     "iopub.status.busy": "2022-07-01T03:46:43.638432Z",
     "iopub.status.idle": "2022-07-01T03:46:43.642708Z",
     "shell.execute_reply": "2022-07-01T03:46:43.641800Z",
     "shell.execute_reply.started": "2022-07-01T03:46:43.638576Z"
    }
   },
   "outputs": [],
   "source": [
    "def vectorize_text(text, label):\n",
    "  text = tf.expand_dims(text, -1)\n",
    "  return vectorize_layer(text), label"
   ]
  },
  {
   "cell_type": "code",
   "execution_count": 23,
   "id": "f66f3e2f-153c-45a9-9e53-11327b756215",
   "metadata": {
    "execution": {
     "iopub.execute_input": "2022-07-01T03:46:43.643893Z",
     "iopub.status.busy": "2022-07-01T03:46:43.643620Z",
     "iopub.status.idle": "2022-07-01T03:46:44.044231Z",
     "shell.execute_reply": "2022-07-01T03:46:44.043511Z",
     "shell.execute_reply.started": "2022-07-01T03:46:43.643893Z"
    }
   },
   "outputs": [
    {
     "name": "stdout",
     "output_type": "stream",
     "text": [
      "Review tf.Tensor(b'Great movie - especially the music - Etta James - \"At Last\". This speaks volumes when you have finally found that special someone.', shape=(), dtype=string)\n",
      "Label neg\n",
      "Vectorized review (<tf.Tensor: shape=(1, 250), dtype=int64, numpy=\n",
      "array([[  86,   17,  260,    2,  222,    1,  571,   31,  229,   11, 2418,\n",
      "           1,   51,   22,   25,  404,  251,   12,  306,  282,    0,    0,\n",
      "           0,    0,    0,    0,    0,    0,    0,    0,    0,    0,    0,\n",
      "           0,    0,    0,    0,    0,    0,    0,    0,    0,    0,    0,\n",
      "           0,    0,    0,    0,    0,    0,    0,    0,    0,    0,    0,\n",
      "           0,    0,    0,    0,    0,    0,    0,    0,    0,    0,    0,\n",
      "           0,    0,    0,    0,    0,    0,    0,    0,    0,    0,    0,\n",
      "           0,    0,    0,    0,    0,    0,    0,    0,    0,    0,    0,\n",
      "           0,    0,    0,    0,    0,    0,    0,    0,    0,    0,    0,\n",
      "           0,    0,    0,    0,    0,    0,    0,    0,    0,    0,    0,\n",
      "           0,    0,    0,    0,    0,    0,    0,    0,    0,    0,    0,\n",
      "           0,    0,    0,    0,    0,    0,    0,    0,    0,    0,    0,\n",
      "           0,    0,    0,    0,    0,    0,    0,    0,    0,    0,    0,\n",
      "           0,    0,    0,    0,    0,    0,    0,    0,    0,    0,    0,\n",
      "           0,    0,    0,    0,    0,    0,    0,    0,    0,    0,    0,\n",
      "           0,    0,    0,    0,    0,    0,    0,    0,    0,    0,    0,\n",
      "           0,    0,    0,    0,    0,    0,    0,    0,    0,    0,    0,\n",
      "           0,    0,    0,    0,    0,    0,    0,    0,    0,    0,    0,\n",
      "           0,    0,    0,    0,    0,    0,    0,    0,    0,    0,    0,\n",
      "           0,    0,    0,    0,    0,    0,    0,    0,    0,    0,    0,\n",
      "           0,    0,    0,    0,    0,    0,    0,    0,    0,    0,    0,\n",
      "           0,    0,    0,    0,    0,    0,    0,    0,    0,    0,    0,\n",
      "           0,    0,    0,    0,    0,    0,    0,    0]])>, <tf.Tensor: shape=(), dtype=int32, numpy=0>)\n"
     ]
    }
   ],
   "source": [
    "# retrieve a batch (of 32 reviews and labels) from the dataset\n",
    "text_batch, label_batch = next(iter(raw_train_ds))\n",
    "first_review, first_label = text_batch[0], label_batch[0]\n",
    "print(\"Review\", first_review)\n",
    "print(\"Label\", raw_train_ds.class_names[first_label])\n",
    "print(\"Vectorized review\", vectorize_text(first_review, first_label))"
   ]
  },
  {
   "cell_type": "code",
   "execution_count": 24,
   "id": "a9bbf1ac-0a5a-47c8-ae57-c0336cc21622",
   "metadata": {
    "execution": {
     "iopub.execute_input": "2022-07-01T03:46:44.045408Z",
     "iopub.status.busy": "2022-07-01T03:46:44.045131Z",
     "iopub.status.idle": "2022-07-01T03:46:44.099069Z",
     "shell.execute_reply": "2022-07-01T03:46:44.098193Z",
     "shell.execute_reply.started": "2022-07-01T03:46:44.045408Z"
    }
   },
   "outputs": [
    {
     "name": "stdout",
     "output_type": "stream",
     "text": [
      "1287 --->  silent\n",
      " 313 --->  night\n",
      "Vocabulary size: 10000\n"
     ]
    }
   ],
   "source": [
    "print(\"1287 ---> \",vectorize_layer.get_vocabulary()[1287])\n",
    "print(\" 313 ---> \",vectorize_layer.get_vocabulary()[313])\n",
    "print('Vocabulary size: {}'.format(len(vectorize_layer.get_vocabulary())))"
   ]
  },
  {
   "cell_type": "code",
   "execution_count": 25,
   "id": "cd0bacc4-00c4-486b-82fb-40e7bc4a537c",
   "metadata": {
    "execution": {
     "iopub.execute_input": "2022-07-01T03:46:44.100261Z",
     "iopub.status.busy": "2022-07-01T03:46:44.099984Z",
     "iopub.status.idle": "2022-07-01T03:46:44.240072Z",
     "shell.execute_reply": "2022-07-01T03:46:44.239227Z",
     "shell.execute_reply.started": "2022-07-01T03:46:44.100261Z"
    }
   },
   "outputs": [],
   "source": [
    "train_ds = raw_train_ds.map(vectorize_text)\n",
    "val_ds = raw_val_ds.map(vectorize_text)\n",
    "test_ds = raw_test_ds.map(vectorize_text)"
   ]
  },
  {
   "cell_type": "markdown",
   "id": "87f5806a-e933-4240-8135-c4730e290ab6",
   "metadata": {},
   "source": []
  },
  {
   "cell_type": "code",
   "execution_count": 26,
   "id": "40d441be-ebb4-47f5-b1b6-977b13a5e881",
   "metadata": {
    "execution": {
     "iopub.execute_input": "2022-07-01T03:46:44.241420Z",
     "iopub.status.busy": "2022-07-01T03:46:44.241144Z",
     "iopub.status.idle": "2022-07-01T03:46:44.248841Z",
     "shell.execute_reply": "2022-07-01T03:46:44.248169Z",
     "shell.execute_reply.started": "2022-07-01T03:46:44.241420Z"
    }
   },
   "outputs": [],
   "source": [
    "AUTOTUNE = tf.data.AUTOTUNE\n",
    "\n",
    "train_ds = train_ds.cache().prefetch(buffer_size=AUTOTUNE)\n",
    "val_ds = val_ds.cache().prefetch(buffer_size=AUTOTUNE)\n",
    "test_ds = test_ds.cache().prefetch(buffer_size=AUTOTUNE)"
   ]
  },
  {
   "cell_type": "code",
   "execution_count": 27,
   "id": "fe019c73-1e44-4b34-b691-b40a3015b589",
   "metadata": {
    "execution": {
     "iopub.execute_input": "2022-07-01T03:46:44.249888Z",
     "iopub.status.busy": "2022-07-01T03:46:44.249696Z",
     "iopub.status.idle": "2022-07-01T03:46:44.253519Z",
     "shell.execute_reply": "2022-07-01T03:46:44.252841Z",
     "shell.execute_reply.started": "2022-07-01T03:46:44.249850Z"
    }
   },
   "outputs": [],
   "source": [
    "embedding_dim = 16"
   ]
  },
  {
   "cell_type": "markdown",
   "id": "f4b9c017-1406-4ce9-b131-80882807bd66",
   "metadata": {},
   "source": [
    "### Defining the model"
   ]
  },
  {
   "cell_type": "code",
   "execution_count": 28,
   "id": "24a59db9-004f-4f14-9302-9af9c600862c",
   "metadata": {
    "execution": {
     "iopub.execute_input": "2022-07-01T03:46:44.254641Z",
     "iopub.status.busy": "2022-07-01T03:46:44.254415Z",
     "iopub.status.idle": "2022-07-01T03:46:44.326716Z",
     "shell.execute_reply": "2022-07-01T03:46:44.325933Z",
     "shell.execute_reply.started": "2022-07-01T03:46:44.254616Z"
    }
   },
   "outputs": [
    {
     "name": "stdout",
     "output_type": "stream",
     "text": [
      "Model: \"sequential\"\n",
      "_________________________________________________________________\n",
      " Layer (type)                Output Shape              Param #   \n",
      "=================================================================\n",
      " embedding (Embedding)       (None, None, 16)          160016    \n",
      "                                                                 \n",
      " dropout (Dropout)           (None, None, 16)          0         \n",
      "                                                                 \n",
      " global_average_pooling1d (G  (None, 16)               0         \n",
      " lobalAveragePooling1D)                                          \n",
      "                                                                 \n",
      " dropout_1 (Dropout)         (None, 16)                0         \n",
      "                                                                 \n",
      " dense (Dense)               (None, 1)                 17        \n",
      "                                                                 \n",
      "=================================================================\n",
      "Total params: 160,033\n",
      "Trainable params: 160,033\n",
      "Non-trainable params: 0\n",
      "_________________________________________________________________\n"
     ]
    }
   ],
   "source": [
    "model = tf.keras.Sequential([\n",
    "  layers.Embedding(max_features + 1, embedding_dim),\n",
    "  layers.Dropout(0.2),\n",
    "  layers.GlobalAveragePooling1D(),\n",
    "  layers.Dropout(0.2),\n",
    "  layers.Dense(1)])\n",
    "\n",
    "model.summary()"
   ]
  },
  {
   "cell_type": "markdown",
   "id": "f873a175-6728-4db2-8c1a-08a9fe61f3a0",
   "metadata": {},
   "source": [
    "### Compiling the model using BinaryCrossentropy"
   ]
  },
  {
   "cell_type": "code",
   "execution_count": 29,
   "id": "929ce36b-61bb-4260-a98f-f0007eeda286",
   "metadata": {
    "execution": {
     "iopub.execute_input": "2022-07-01T03:46:44.328427Z",
     "iopub.status.busy": "2022-07-01T03:46:44.328255Z",
     "iopub.status.idle": "2022-07-01T03:46:44.344689Z",
     "shell.execute_reply": "2022-07-01T03:46:44.343889Z",
     "shell.execute_reply.started": "2022-07-01T03:46:44.328410Z"
    }
   },
   "outputs": [],
   "source": [
    "model.compile(loss=losses.BinaryCrossentropy(from_logits=True),\n",
    "              optimizer='adam',\n",
    "              metrics=tf.metrics.BinaryAccuracy(threshold=0.0))"
   ]
  },
  {
   "cell_type": "markdown",
   "id": "82b6dcec-a272-43d6-a364-9444ef200fa2",
   "metadata": {},
   "source": [
    "### Training the model "
   ]
  },
  {
   "cell_type": "code",
   "execution_count": 30,
   "id": "a442d200-5e8d-4b7f-bdd6-824c767dffc2",
   "metadata": {
    "execution": {
     "iopub.execute_input": "2022-07-01T03:46:44.346616Z",
     "iopub.status.busy": "2022-07-01T03:46:44.345933Z",
     "iopub.status.idle": "2022-07-01T03:47:17.762643Z",
     "shell.execute_reply": "2022-07-01T03:47:17.761441Z",
     "shell.execute_reply.started": "2022-07-01T03:46:44.346586Z"
    }
   },
   "outputs": [
    {
     "name": "stdout",
     "output_type": "stream",
     "text": [
      "Epoch 1/10\n",
      "625/625 [==============================] - 6s 7ms/step - loss: 0.6641 - binary_accuracy: 0.6931 - val_loss: 0.6143 - val_binary_accuracy: 0.7730\n",
      "Epoch 2/10\n",
      "625/625 [==============================] - 3s 5ms/step - loss: 0.5476 - binary_accuracy: 0.8015 - val_loss: 0.4972 - val_binary_accuracy: 0.8222\n",
      "Epoch 3/10\n",
      "625/625 [==============================] - 3s 5ms/step - loss: 0.4439 - binary_accuracy: 0.8446 - val_loss: 0.4194 - val_binary_accuracy: 0.8466\n",
      "Epoch 4/10\n",
      "625/625 [==============================] - 3s 5ms/step - loss: 0.3776 - binary_accuracy: 0.8660 - val_loss: 0.3731 - val_binary_accuracy: 0.8606\n",
      "Epoch 5/10\n",
      "625/625 [==============================] - 3s 5ms/step - loss: 0.3349 - binary_accuracy: 0.8785 - val_loss: 0.3449 - val_binary_accuracy: 0.8662\n",
      "Epoch 6/10\n",
      "625/625 [==============================] - 3s 5ms/step - loss: 0.3051 - binary_accuracy: 0.8888 - val_loss: 0.3262 - val_binary_accuracy: 0.8692\n",
      "Epoch 7/10\n",
      "625/625 [==============================] - 3s 5ms/step - loss: 0.2812 - binary_accuracy: 0.8960 - val_loss: 0.3125 - val_binary_accuracy: 0.8732\n",
      "Epoch 8/10\n",
      "625/625 [==============================] - 3s 5ms/step - loss: 0.2620 - binary_accuracy: 0.9049 - val_loss: 0.3034 - val_binary_accuracy: 0.8752\n",
      "Epoch 9/10\n",
      "625/625 [==============================] - 3s 5ms/step - loss: 0.2459 - binary_accuracy: 0.9115 - val_loss: 0.2968 - val_binary_accuracy: 0.8786\n",
      "Epoch 10/10\n",
      "625/625 [==============================] - 3s 5ms/step - loss: 0.2308 - binary_accuracy: 0.9161 - val_loss: 0.2921 - val_binary_accuracy: 0.8786\n"
     ]
    }
   ],
   "source": [
    "epochs = 10\n",
    "history = model.fit(\n",
    "    train_ds,\n",
    "    validation_data=val_ds,\n",
    "    epochs=epochs)"
   ]
  },
  {
   "cell_type": "markdown",
   "id": "00aabf80-7529-417d-80a8-3b551cbfddcb",
   "metadata": {},
   "source": [
    "### Calculating for accuracy"
   ]
  },
  {
   "cell_type": "code",
   "execution_count": 31,
   "id": "2dea1a08-4dfa-436e-83c6-d5dab3e07ed2",
   "metadata": {
    "execution": {
     "iopub.execute_input": "2022-07-01T03:47:17.765497Z",
     "iopub.status.busy": "2022-07-01T03:47:17.764583Z",
     "iopub.status.idle": "2022-07-01T03:47:24.210682Z",
     "shell.execute_reply": "2022-07-01T03:47:24.209288Z",
     "shell.execute_reply.started": "2022-07-01T03:47:17.765486Z"
    }
   },
   "outputs": [
    {
     "name": "stdout",
     "output_type": "stream",
     "text": [
      "782/782 [==============================] - 6s 8ms/step - loss: 0.3106 - binary_accuracy: 0.8725\n",
      "Loss:  0.3105567991733551\n",
      "Accuracy:  0.8724799752235413\n"
     ]
    }
   ],
   "source": [
    "loss, accuracy = model.evaluate(test_ds)\n",
    "\n",
    "print(\"Loss: \", loss)\n",
    "print(\"Accuracy: \", accuracy)"
   ]
  },
  {
   "cell_type": "markdown",
   "id": "fe1a434b-ffbd-4fd2-b202-a46e9bbb2dd1",
   "metadata": {},
   "source": [
    "### Exporting the trained model"
   ]
  },
  {
   "cell_type": "code",
   "execution_count": 32,
   "id": "cac1a1f1-2456-4f21-abc2-ce714c7473f7",
   "metadata": {
    "execution": {
     "iopub.execute_input": "2022-07-01T03:47:24.212542Z",
     "iopub.status.busy": "2022-07-01T03:47:24.211942Z",
     "iopub.status.idle": "2022-07-01T03:47:28.826814Z",
     "shell.execute_reply": "2022-07-01T03:47:28.826267Z",
     "shell.execute_reply.started": "2022-07-01T03:47:24.212512Z"
    }
   },
   "outputs": [
    {
     "name": "stdout",
     "output_type": "stream",
     "text": [
      "782/782 [==============================] - 5s 5ms/step - loss: 0.3106 - accuracy: 0.8725\n",
      "0.8724799752235413\n"
     ]
    }
   ],
   "source": [
    "export_model = tf.keras.Sequential([\n",
    "  vectorize_layer,\n",
    "  model,\n",
    "  layers.Activation('sigmoid')\n",
    "])\n",
    "\n",
    "export_model.compile(\n",
    "    loss=losses.BinaryCrossentropy(from_logits=False), optimizer=\"adam\", metrics=['accuracy']\n",
    ")\n",
    "\n",
    "# Test it with `raw_test_ds`, which yields raw strings\n",
    "loss, accuracy = export_model.evaluate(raw_test_ds)\n",
    "print(accuracy)"
   ]
  },
  {
   "cell_type": "markdown",
   "id": "19ca16b9-2d91-488c-b286-17636e63d48d",
   "metadata": {},
   "source": [
    "### Inferencing the trained model"
   ]
  },
  {
   "cell_type": "code",
   "execution_count": 37,
   "id": "060aa8be-06f8-47c3-8241-a03224214bcc",
   "metadata": {
    "execution": {
     "iopub.execute_input": "2022-07-01T03:48:54.669336Z",
     "iopub.status.busy": "2022-07-01T03:48:54.669056Z",
     "iopub.status.idle": "2022-07-01T03:48:54.752634Z",
     "shell.execute_reply": "2022-07-01T03:48:54.751724Z",
     "shell.execute_reply.started": "2022-07-01T03:48:54.669308Z"
    }
   },
   "outputs": [
    {
     "data": {
      "text/plain": [
       "array([[0.52754873],\n",
       "       [0.3874814 ],\n",
       "       [0.64958274]], dtype=float32)"
      ]
     },
     "execution_count": 37,
     "metadata": {},
     "output_type": "execute_result"
    }
   ],
   "source": [
    "examples = [\n",
    "  \"The movie is good\",\n",
    "    \"The movies is terrible\",\n",
    "    \"Harsha is an excellent student\"\n",
    "]\n",
    "\n",
    "export_model.predict(examples)"
   ]
  },
  {
   "cell_type": "markdown",
   "id": "85c70d2c-15c0-415d-9100-29caeffce65e",
   "metadata": {},
   "source": [
    "### Saving the trained model"
   ]
  },
  {
   "cell_type": "code",
   "execution_count": 34,
   "id": "2e400e54-00a0-4fbf-a8d3-b6bec8f19f82",
   "metadata": {
    "execution": {
     "iopub.execute_input": "2022-07-01T03:47:29.009507Z",
     "iopub.status.busy": "2022-07-01T03:47:29.008927Z",
     "iopub.status.idle": "2022-07-01T03:47:29.192743Z",
     "shell.execute_reply": "2022-07-01T03:47:29.191905Z",
     "shell.execute_reply.started": "2022-07-01T03:47:29.009481Z"
    }
   },
   "outputs": [],
   "source": [
    "model.save('my_model.h5')"
   ]
  },
  {
   "cell_type": "code",
   "execution_count": null,
   "id": "c15d7f5e-d1ba-4c88-89fd-a2428631cfb0",
   "metadata": {},
   "outputs": [],
   "source": []
  }
 ],
 "metadata": {
  "kernelspec": {
   "display_name": "Python 3 (ipykernel)",
   "language": "python",
   "name": "python3"
  },
  "language_info": {
   "codemirror_mode": {
    "name": "ipython",
    "version": 3
   },
   "file_extension": ".py",
   "mimetype": "text/x-python",
   "name": "python",
   "nbconvert_exporter": "python",
   "pygments_lexer": "ipython3",
   "version": "3.8.10"
  }
 },
 "nbformat": 4,
 "nbformat_minor": 5
}
